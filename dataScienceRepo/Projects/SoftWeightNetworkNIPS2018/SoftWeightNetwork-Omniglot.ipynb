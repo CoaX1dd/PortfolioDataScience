{
 "cells": [
  {
   "cell_type": "code",
   "execution_count": 1,
   "metadata": {},
   "outputs": [],
   "source": [
    "%matplotlib inline\n",
    "from __future__ import print_function\n",
    "from PIL import Image\n",
    "import numpy as np\n",
    "import tensorflow as tf\n",
    "import os\n",
    "import glob\n",
    "import matplotlib.pyplot as plt"
   ]
  },
  {
   "cell_type": "code",
   "execution_count": 2,
   "metadata": {},
   "outputs": [],
   "source": [
    "def conv_block(inputs, out_channels, name='conv'):\n",
    "    with tf.variable_scope(name):\n",
    "        conv = tf.layers.conv2d(inputs, out_channels, kernel_size=3, padding='SAME')\n",
    "        conv = tf.contrib.layers.batch_norm(conv, updates_collections=None, decay=0.99, scale=True, center=True)\n",
    "        conv = tf.nn.relu(conv)\n",
    "        conv = tf.contrib.layers.max_pool2d(conv, 2)\n",
    "        return conv"
   ]
  },
  {
   "cell_type": "code",
   "execution_count": 3,
   "metadata": {},
   "outputs": [],
   "source": [
    "def SoftWeightLayer(inCh,outCh):   \n",
    "    \n",
    "    fc1 = tf.layers.dense(inCh,outCh,activation = None )    # doing a linear transformation(no activation applied)\n",
    "    bn = tf.layers.batch_normalization(fc1)                                              \n",
    "    \n",
    "    return bn "
   ]
  },
  {
   "cell_type": "code",
   "execution_count": 4,
   "metadata": {},
   "outputs": [],
   "source": [
    "def encoder(x, h_dim, z_dim, reuse=False):\n",
    "    with tf.variable_scope('encoder', reuse=reuse):\n",
    "        \n",
    "        net = conv_block(x, h_dim, name='conv_1')\n",
    "        net = conv_block(net, h_dim, name='conv_2')\n",
    "        net = conv_block(net, h_dim, name='conv_3')\n",
    "        net = conv_block(net, z_dim-1, name='conv_4') #need to change z_dim-1 to z_dim\n",
    "        fx = tf.contrib.layers.flatten(net)      #need to reshape zdim to be the same dimensions as fx                                  \n",
    "        wfx = SoftWeightLayer(fx,z_dim)  #then need to pass z_dim+1 and the reshaped z_dim in here\n",
    "        \n",
    "        return wfx,fx"
   ]
  },
  {
   "cell_type": "code",
   "execution_count": 5,
   "metadata": {},
   "outputs": [],
   "source": [
    "def euclidean_distance(a, b):\n",
    "    # a.shape = N x D\n",
    "    # b.shape = M x D\n",
    "    N, D = tf.shape(a)[0], tf.shape(a)[1]\n",
    "    M = tf.shape(b)[0]\n",
    "    a = tf.tile(tf.expand_dims(a, axis=1), (1, M, 1))\n",
    "    b = tf.tile(tf.expand_dims(b, axis=0), (N, 1, 1))\n",
    "    return tf.reduce_mean(tf.square(a - b), axis=2)"
   ]
  },
  {
   "cell_type": "code",
   "execution_count": 6,
   "metadata": {},
   "outputs": [],
   "source": [
    "def compute_alpha(x, yw):\n",
    "    \n",
    "    # x: class*query X features\n",
    "    # yw: class X weights + bias\n",
    "    \n",
    "    n = tf.shape(x)[0] # classes*query\n",
    "    m = tf.shape(yw)[0] #classes*shot\n",
    "    d = tf.shape(x)[1]  #features\n",
    "    #n = tf.Print(n,[n],'This is n: ')\n",
    "    #m = tf.Print(m,[m],'This is m: ')\n",
    "    #d = tf.Print(d,[d],'This is d: ')\n",
    "\n",
    "    #yw = tf.Print(yw,[tf.shape(yw)],'yw Info: ')\n",
    "    #x = tf.Print(x,[tf.shape(x)],'x Info: ')\n",
    "    x = tf.tile(tf.expand_dims(x, axis = 1), (1,m,1))\n",
    "    yb = yw[:,-1]  #yw[:,-1] I think this works just like numpy now in tensor flow hopefully this is not problematic\n",
    "    yw = yw[:,:-1] #yw[:,:-1]\n",
    "    #yw = tf.Print(yw,[tf.shape(yw)],'This is shape of yw before: ')\n",
    "    yw = tf.tile(tf.expand_dims(yw, axis = 0), (n,1,1))\n",
    "    output = tf.reduce_sum(tf.multiply(x,yw), axis = 2)\n",
    "    #output = tf.Print(output,[tf.shape(output)],'output Info: ') \n",
    "    \n",
    "    return output"
   ]
  },
  {
   "cell_type": "code",
   "execution_count": 7,
   "metadata": {},
   "outputs": [],
   "source": [
    "n_epochs = 50\n",
    "n_episodes = 100\n",
    "n_way = 60\n",
    "n_shot = 1\n",
    "n_query = 5\n",
    "n_examples = 20\n",
    "im_width, im_height, channels = 28, 28, 1\n",
    "h_dim = 64\n",
    "z_dim = 64"
   ]
  },
  {
   "cell_type": "code",
   "execution_count": 8,
   "metadata": {},
   "outputs": [
    {
     "name": "stdout",
     "output_type": "stream",
     "text": [
      "(4112, 20, 28, 28)\n"
     ]
    }
   ],
   "source": [
    "# Load Train Dataset\n",
    "root_dir = './data/omniglot'\n",
    "train_split_path = os.path.join(root_dir, 'splits', 'train.txt')\n",
    "with open(train_split_path, 'r') as train_split:\n",
    "    train_classes = [line.rstrip() for line in train_split.readlines()]\n",
    "n_classes = len(train_classes)\n",
    "train_dataset = np.zeros([n_classes, n_examples, im_height, im_width], dtype=np.float32)\n",
    "for i, tc in enumerate(train_classes):\n",
    "    alphabet, character, rotation = tc.split('/')\n",
    "    rotation = float(rotation[3:])\n",
    "    im_dir = os.path.join(root_dir, 'data', alphabet, character)\n",
    "    im_files = sorted(glob.glob(os.path.join(im_dir, '*.png')))\n",
    "    for j, im_file in enumerate(im_files):\n",
    "        im = 1. - np.array(Image.open(im_file).rotate(rotation).resize((im_width, im_height)), np.float32, copy=False)\n",
    "        train_dataset[i, j] = im\n",
    "print(train_dataset.shape)"
   ]
  },
  {
   "cell_type": "code",
   "execution_count": 9,
   "metadata": {},
   "outputs": [],
   "source": [
    "x = tf.placeholder(tf.float32, [None, None, im_height, im_width, channels])\n",
    "q = tf.placeholder(tf.float32, [None, None, im_height, im_width, channels])\n",
    "x_shape = tf.shape(x)\n",
    "q_shape = tf.shape(q)\n",
    "num_classes, num_support = x_shape[0], x_shape[1]\n",
    "num_queries = q_shape[1]\n",
    "y = tf.placeholder(tf.int64, [None, None])\n",
    "y_one_hot = tf.one_hot(y, depth=num_classes)\n",
    "z_s,emb_xs = encoder(tf.reshape(x, [num_classes * num_support, im_height, im_width, channels]), h_dim, z_dim)\n",
    "z_q,emb_xq = encoder(tf.reshape(q, [num_classes * num_queries, im_height, im_width, channels]), h_dim, z_dim, reuse=True)\n",
    "alpha = compute_alpha(emb_xq,z_s)\n",
    "beta = compute_alpha(emb_xs,z_q)\n",
    "beta = tf.transpose(beta)\n",
    "alpha = tf.reshape(alpha, [num_classes,num_queries,num_classes,num_support])\n",
    "beta = tf.reshape(beta, [num_classes,num_queries,num_classes,num_support])\n",
    "\n",
    "alpha_sum = tf.reduce_sum(alpha,axis = 3) + tf.reduce_sum(beta,axis = 3)\n",
    "log_p_y = tf.reshape(tf.nn.log_softmax(alpha_sum), [num_classes, num_queries, -1])\n",
    "ce_loss = -tf.reduce_mean(tf.reshape(tf.reduce_sum(tf.multiply(y_one_hot, log_p_y), axis=-1), [-1]))\n",
    "acc = tf.reduce_mean(tf.to_float(tf.equal(tf.argmax(log_p_y, axis=-1), y)))"
   ]
  },
  {
   "cell_type": "code",
   "execution_count": 10,
   "metadata": {},
   "outputs": [],
   "source": [
    "train_op = tf.train.AdamOptimizer().minimize(ce_loss)"
   ]
  },
  {
   "cell_type": "code",
   "execution_count": 11,
   "metadata": {},
   "outputs": [],
   "source": [
    "sess = tf.InteractiveSession()\n",
    "init_op = tf.global_variables_initializer()\n",
    "sess.run(init_op)"
   ]
  },
  {
   "cell_type": "code",
   "execution_count": 12,
   "metadata": {},
   "outputs": [
    {
     "name": "stdout",
     "output_type": "stream",
     "text": [
      "[epoch 1/50, episode 50/100] => loss: 3.47415, acc: 0.13667\n",
      "[epoch 1/50, episode 100/100] => loss: 2.98717, acc: 0.17667\n",
      "[epoch 2/50, episode 50/100] => loss: 2.92872, acc: 0.21667\n",
      "[epoch 2/50, episode 100/100] => loss: 2.17049, acc: 0.36667\n",
      "[epoch 3/50, episode 50/100] => loss: 1.89829, acc: 0.43000\n",
      "[epoch 3/50, episode 100/100] => loss: 1.86694, acc: 0.46333\n",
      "[epoch 4/50, episode 50/100] => loss: 1.67447, acc: 0.52000\n",
      "[epoch 4/50, episode 100/100] => loss: 1.51066, acc: 0.53333\n",
      "[epoch 5/50, episode 50/100] => loss: 1.23161, acc: 0.67000\n",
      "[epoch 5/50, episode 100/100] => loss: 1.29993, acc: 0.61000\n",
      "[epoch 6/50, episode 50/100] => loss: 0.96550, acc: 0.74333\n",
      "[epoch 6/50, episode 100/100] => loss: 0.99656, acc: 0.67000\n",
      "[epoch 7/50, episode 50/100] => loss: 0.99735, acc: 0.72000\n",
      "[epoch 7/50, episode 100/100] => loss: 0.95893, acc: 0.70667\n",
      "[epoch 8/50, episode 50/100] => loss: 1.03146, acc: 0.69000\n",
      "[epoch 8/50, episode 100/100] => loss: 1.10622, acc: 0.69000\n",
      "[epoch 9/50, episode 50/100] => loss: 0.96899, acc: 0.69667\n",
      "[epoch 9/50, episode 100/100] => loss: 0.74224, acc: 0.77667\n",
      "[epoch 10/50, episode 50/100] => loss: 0.85922, acc: 0.75333\n",
      "[epoch 10/50, episode 100/100] => loss: 0.76025, acc: 0.76000\n",
      "[epoch 11/50, episode 50/100] => loss: 0.88875, acc: 0.78667\n",
      "[epoch 11/50, episode 100/100] => loss: 0.77712, acc: 0.77000\n",
      "[epoch 12/50, episode 50/100] => loss: 0.68772, acc: 0.79667\n",
      "[epoch 12/50, episode 100/100] => loss: 0.60465, acc: 0.82333\n",
      "[epoch 13/50, episode 50/100] => loss: 0.75297, acc: 0.81667\n",
      "[epoch 13/50, episode 100/100] => loss: 0.67136, acc: 0.82000\n",
      "[epoch 14/50, episode 50/100] => loss: 0.60168, acc: 0.80667\n",
      "[epoch 14/50, episode 100/100] => loss: 0.58311, acc: 0.84000\n",
      "[epoch 15/50, episode 50/100] => loss: 0.59896, acc: 0.79333\n",
      "[epoch 15/50, episode 100/100] => loss: 0.66496, acc: 0.79667\n",
      "[epoch 16/50, episode 50/100] => loss: 0.55118, acc: 0.85333\n",
      "[epoch 16/50, episode 100/100] => loss: 0.52090, acc: 0.82000\n",
      "[epoch 17/50, episode 50/100] => loss: 0.41555, acc: 0.87000\n",
      "[epoch 17/50, episode 100/100] => loss: 0.66096, acc: 0.84333\n",
      "[epoch 18/50, episode 50/100] => loss: 0.49875, acc: 0.86000\n",
      "[epoch 18/50, episode 100/100] => loss: 0.63589, acc: 0.81667\n",
      "[epoch 19/50, episode 50/100] => loss: 0.55089, acc: 0.82333\n",
      "[epoch 19/50, episode 100/100] => loss: 0.56043, acc: 0.83667\n",
      "[epoch 20/50, episode 50/100] => loss: 0.73114, acc: 0.80000\n",
      "[epoch 20/50, episode 100/100] => loss: 0.42315, acc: 0.85667\n",
      "[epoch 21/50, episode 50/100] => loss: 0.42842, acc: 0.85667\n",
      "[epoch 21/50, episode 100/100] => loss: 0.36086, acc: 0.87333\n",
      "[epoch 22/50, episode 50/100] => loss: 0.55099, acc: 0.82333\n",
      "[epoch 22/50, episode 100/100] => loss: 0.50436, acc: 0.84333\n",
      "[epoch 23/50, episode 50/100] => loss: 0.58704, acc: 0.82333\n",
      "[epoch 23/50, episode 100/100] => loss: 0.27691, acc: 0.90333\n",
      "[epoch 24/50, episode 50/100] => loss: 0.27646, acc: 0.93333\n",
      "[epoch 24/50, episode 100/100] => loss: 0.36175, acc: 0.90000\n",
      "[epoch 25/50, episode 50/100] => loss: 0.36325, acc: 0.89000\n",
      "[epoch 25/50, episode 100/100] => loss: 0.35190, acc: 0.90000\n",
      "[epoch 26/50, episode 50/100] => loss: 0.24317, acc: 0.93000\n",
      "[epoch 26/50, episode 100/100] => loss: 0.29442, acc: 0.89667\n",
      "[epoch 27/50, episode 50/100] => loss: 0.31240, acc: 0.90000\n",
      "[epoch 27/50, episode 100/100] => loss: 0.32216, acc: 0.90667\n",
      "[epoch 28/50, episode 50/100] => loss: 0.39765, acc: 0.87667\n",
      "[epoch 28/50, episode 100/100] => loss: 0.41369, acc: 0.83667\n",
      "[epoch 29/50, episode 50/100] => loss: 0.38894, acc: 0.87333\n",
      "[epoch 29/50, episode 100/100] => loss: 0.44299, acc: 0.88667\n",
      "[epoch 30/50, episode 50/100] => loss: 0.25400, acc: 0.93000\n",
      "[epoch 30/50, episode 100/100] => loss: 0.70809, acc: 0.79000\n",
      "[epoch 31/50, episode 50/100] => loss: 0.52751, acc: 0.82333\n",
      "[epoch 31/50, episode 100/100] => loss: 0.27303, acc: 0.91667\n",
      "[epoch 32/50, episode 50/100] => loss: 0.42580, acc: 0.86000\n",
      "[epoch 32/50, episode 100/100] => loss: 0.20561, acc: 0.92667\n",
      "[epoch 33/50, episode 50/100] => loss: 0.38153, acc: 0.88333\n",
      "[epoch 33/50, episode 100/100] => loss: 0.45415, acc: 0.84667\n",
      "[epoch 34/50, episode 50/100] => loss: 0.24732, acc: 0.92667\n",
      "[epoch 34/50, episode 100/100] => loss: 0.50368, acc: 0.83333\n",
      "[epoch 35/50, episode 50/100] => loss: 0.39085, acc: 0.89333\n",
      "[epoch 35/50, episode 100/100] => loss: 0.32959, acc: 0.88333\n",
      "[epoch 36/50, episode 50/100] => loss: 0.25969, acc: 0.91333\n",
      "[epoch 36/50, episode 100/100] => loss: 0.35332, acc: 0.88000\n",
      "[epoch 37/50, episode 50/100] => loss: 0.33606, acc: 0.89333\n",
      "[epoch 37/50, episode 100/100] => loss: 0.49354, acc: 0.86667\n",
      "[epoch 38/50, episode 50/100] => loss: 0.40821, acc: 0.86000\n",
      "[epoch 38/50, episode 100/100] => loss: 0.22241, acc: 0.93000\n",
      "[epoch 39/50, episode 50/100] => loss: 0.37574, acc: 0.87667\n",
      "[epoch 39/50, episode 100/100] => loss: 0.43374, acc: 0.86667\n",
      "[epoch 40/50, episode 50/100] => loss: 0.31939, acc: 0.90667\n",
      "[epoch 40/50, episode 100/100] => loss: 0.45084, acc: 0.88667\n",
      "[epoch 41/50, episode 50/100] => loss: 0.33950, acc: 0.89333\n",
      "[epoch 41/50, episode 100/100] => loss: 0.41145, acc: 0.87667\n",
      "[epoch 42/50, episode 50/100] => loss: 0.25364, acc: 0.91667\n",
      "[epoch 42/50, episode 100/100] => loss: 0.26658, acc: 0.90667\n",
      "[epoch 43/50, episode 50/100] => loss: 0.21155, acc: 0.93333\n",
      "[epoch 43/50, episode 100/100] => loss: 0.23548, acc: 0.92000\n",
      "[epoch 44/50, episode 50/100] => loss: 0.25575, acc: 0.91667\n",
      "[epoch 44/50, episode 100/100] => loss: 0.40127, acc: 0.88333\n",
      "[epoch 45/50, episode 50/100] => loss: 0.25588, acc: 0.91667\n",
      "[epoch 45/50, episode 100/100] => loss: 0.32705, acc: 0.89333\n",
      "[epoch 46/50, episode 50/100] => loss: 0.40420, acc: 0.85333\n",
      "[epoch 46/50, episode 100/100] => loss: 0.21284, acc: 0.92000\n",
      "[epoch 47/50, episode 50/100] => loss: 0.23992, acc: 0.92000\n",
      "[epoch 47/50, episode 100/100] => loss: 0.42519, acc: 0.88333\n",
      "[epoch 48/50, episode 50/100] => loss: 0.28205, acc: 0.91333\n",
      "[epoch 48/50, episode 100/100] => loss: 0.14955, acc: 0.95667\n",
      "[epoch 49/50, episode 50/100] => loss: 0.24860, acc: 0.93000\n",
      "[epoch 49/50, episode 100/100] => loss: 0.36965, acc: 0.87000\n",
      "[epoch 50/50, episode 50/100] => loss: 0.22117, acc: 0.94000\n",
      "[epoch 50/50, episode 100/100] => loss: 0.25493, acc: 0.92000\n"
     ]
    }
   ],
   "source": [
    "for ep in range(n_epochs):\n",
    "    for epi in range(n_episodes):\n",
    "        epi_classes = np.random.permutation(n_classes)[:n_way]\n",
    "        support = np.zeros([n_way, n_shot, im_height, im_width], dtype=np.float32)\n",
    "        query = np.zeros([n_way, n_query, im_height, im_width], dtype=np.float32)\n",
    "        for i, epi_cls in enumerate(epi_classes):\n",
    "            selected = np.random.permutation(n_examples)[:n_shot + n_query]\n",
    "            support[i] = train_dataset[epi_cls, selected[:n_shot]]\n",
    "            query[i] = train_dataset[epi_cls, selected[n_shot:]]\n",
    "        support = np.expand_dims(support, axis=-1)\n",
    "        query = np.expand_dims(query, axis=-1)\n",
    "        labels = np.tile(np.arange(n_way)[:, np.newaxis], (1, n_query)).astype(np.uint8)\n",
    "        _, ls, ac = sess.run([train_op, ce_loss, acc], feed_dict={x: support, q: query, y:labels})\n",
    "        if (epi+1) % 50 == 0:\n",
    "            print('[epoch {}/{}, episode {}/{}] => loss: {:.5f}, acc: {:.5f}'.format(ep+1, n_epochs, epi+1, n_episodes, ls, ac))"
   ]
  },
  {
   "cell_type": "code",
   "execution_count": 13,
   "metadata": {},
   "outputs": [
    {
     "name": "stdout",
     "output_type": "stream",
     "text": [
      "(1692, 20, 28, 28)\n"
     ]
    }
   ],
   "source": [
    "# Load Test Dataset\n",
    "root_dir = './data/omniglot'\n",
    "test_split_path = os.path.join(root_dir, 'splits', 'test.txt')\n",
    "with open(test_split_path, 'r') as test_split:\n",
    "    test_classes = [line.rstrip() for line in test_split.readlines()]\n",
    "n_test_classes = len(test_classes)\n",
    "test_dataset = np.zeros([n_test_classes, n_examples, im_height, im_width], dtype=np.float32)\n",
    "for i, tc in enumerate(test_classes):\n",
    "    alphabet, character, rotation = tc.split('/')\n",
    "    rotation = float(rotation[3:])\n",
    "    im_dir = os.path.join(root_dir, 'data', alphabet, character)\n",
    "    im_files = sorted(glob.glob(os.path.join(im_dir, '*.png')))\n",
    "    for j, im_file in enumerate(im_files):\n",
    "        im = 1. - np.array(Image.open(im_file).rotate(rotation).resize((im_width, im_height)), np.float32, copy=False)\n",
    "        test_dataset[i, j] = im\n",
    "print(test_dataset.shape)"
   ]
  },
  {
   "cell_type": "code",
   "execution_count": 14,
   "metadata": {},
   "outputs": [],
   "source": [
    "n_test_episodes = 1000\n",
    "n_test_way = 20\n",
    "n_test_shot = 5\n",
    "n_test_query = 15"
   ]
  },
  {
   "cell_type": "code",
   "execution_count": 15,
   "metadata": {},
   "outputs": [
    {
     "name": "stdout",
     "output_type": "stream",
     "text": [
      "Testing...\n",
      "[test episode 50/1000] => loss: 0.02784, acc: 0.99333\n",
      "[test episode 100/1000] => loss: 0.26551, acc: 0.96667\n",
      "[test episode 150/1000] => loss: 0.26347, acc: 0.96333\n",
      "[test episode 200/1000] => loss: 0.20108, acc: 0.97333\n",
      "[test episode 250/1000] => loss: 0.45364, acc: 0.96333\n",
      "[test episode 300/1000] => loss: 0.25119, acc: 0.95667\n",
      "[test episode 350/1000] => loss: 0.46046, acc: 0.96000\n",
      "[test episode 400/1000] => loss: 0.12510, acc: 0.98333\n",
      "[test episode 450/1000] => loss: 0.21344, acc: 0.98667\n",
      "[test episode 500/1000] => loss: 0.20805, acc: 0.96667\n",
      "[test episode 550/1000] => loss: 0.11927, acc: 0.98667\n",
      "[test episode 600/1000] => loss: 0.03685, acc: 0.98667\n",
      "[test episode 650/1000] => loss: 0.06834, acc: 0.99000\n",
      "[test episode 700/1000] => loss: 0.30693, acc: 0.97333\n",
      "[test episode 750/1000] => loss: 0.19741, acc: 0.98333\n",
      "[test episode 800/1000] => loss: 0.27011, acc: 0.95667\n",
      "[test episode 850/1000] => loss: 0.05989, acc: 0.98667\n",
      "[test episode 900/1000] => loss: 0.00070, acc: 1.00000\n",
      "[test episode 950/1000] => loss: 0.19308, acc: 0.98667\n",
      "[test episode 1000/1000] => loss: 0.09624, acc: 0.98000\n",
      "Average Test Accuracy: 0.97230\n"
     ]
    }
   ],
   "source": [
    "print('Testing...')\n",
    "avg_acc = 0.\n",
    "for epi in range(n_test_episodes):\n",
    "    epi_classes = np.random.permutation(n_test_classes)[:n_test_way]\n",
    "    support = np.zeros([n_test_way, n_test_shot, im_height, im_width], dtype=np.float32)\n",
    "    query = np.zeros([n_test_way, n_test_query, im_height, im_width], dtype=np.float32)\n",
    "    for i, epi_cls in enumerate(epi_classes):\n",
    "        selected = np.random.permutation(n_examples)[:n_test_shot + n_test_query]\n",
    "        support[i] = test_dataset[epi_cls, selected[:n_test_shot]]\n",
    "        query[i] = test_dataset[epi_cls, selected[n_test_shot:]]\n",
    "    support = np.expand_dims(support, axis=-1)\n",
    "    query = np.expand_dims(query, axis=-1)\n",
    "    labels = np.tile(np.arange(n_test_way)[:, np.newaxis], (1, n_test_query)).astype(np.uint8)\n",
    "    ls, ac = sess.run([ce_loss, acc], feed_dict={x: support, q: query, y:labels})\n",
    "    avg_acc += ac\n",
    "    if (epi+1) % 50 == 0:\n",
    "        print('[test episode {}/{}] => loss: {:.5f}, acc: {:.5f}'.format(epi+1, n_test_episodes, ls, ac))\n",
    "avg_acc /= n_test_episodes\n",
    "print('Average Test Accuracy: {:.5f}'.format(avg_acc))"
   ]
  },
  {
   "cell_type": "code",
   "execution_count": null,
   "metadata": {},
   "outputs": [],
   "source": []
  }
 ],
 "metadata": {
  "kernelspec": {
   "display_name": "tensorflow",
   "language": "python",
   "name": "tensorflow"
  },
  "language_info": {
   "codemirror_mode": {
    "name": "ipython",
    "version": 3
   },
   "file_extension": ".py",
   "mimetype": "text/x-python",
   "name": "python",
   "nbconvert_exporter": "python",
   "pygments_lexer": "ipython3",
   "version": "3.6.3"
  }
 },
 "nbformat": 4,
 "nbformat_minor": 2
}
